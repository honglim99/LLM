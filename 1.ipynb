{
 "cells": [
  {
   "cell_type": "code",
   "execution_count": 6,
   "metadata": {},
   "outputs": [
    {
     "name": "stdout",
     "output_type": "stream",
     "text": [
      "안녕하세요! 저는 폴리텍에서 개발된 인공지능 봇, 폴리텍봇이라고 합니다. 다양한 정보를 제공하고 고객 서비스를 지원하며, 사용자분들이 편리한 정보를 얻을 수 있도록 돕는 것이 저의 역할입니다. 어떤 질문이나 도움이 필요하신가요?\n"
     ]
    }
   ],
   "source": [
    "#local ollama inference\n",
    " \n",
    "import ollama\n",
    " \n",
    "response = ollama.chat(model='qwen2.5:7b', messages=[\n",
    "    {'role': 'system', 'content': '너는 어시스턴트 AI야'},  #Role, 데이터 생성방식, 작업에대한 상세한 지시\n",
    "    {'role': 'user', 'content': '안녕하세요. 자기소개 부탁합니다.'}\n",
    "])\n",
    " \n",
    "print(response['message']['content'])"
   ]
  },
  {
   "cell_type": "code",
   "execution_count": 8,
   "metadata": {},
   "outputs": [
    {
     "name": "stdout",
     "output_type": "stream",
     "text": [
      "Hello. May I have a self-introduction, please?\n"
     ]
    }
   ],
   "source": [
    "#local ollama inference\n",
    "\n",
    "'''\n",
    "1. 본인이름이 폴리텍 봇으로 인식할것\n",
    "2. 사용자가 입력을 넣었을때, 자동으로 영어로 번역해서 출력할 것\n",
    "3. 대화형이 아니라, 사용자의 말을 번역한 결과물을 출력할 것\n",
    "4. 영어만 출력할 것\n",
    "'''\n",
    "\n",
    "response = ollama.chat(model='qwen2.5:7b', messages=[\n",
    "    {'role': 'system', 'content': '너는 폴리텍 봇이야! 너는 대답을 질문을 영어로 번역해주는것만 할 수 있어! 그래서 영어로만 말해야해'},  #Role, 데이터 생성방식, 작업에대한 상세한 지시\n",
    "    {'role': 'user', 'content': '안녕하세요. 자기소개 부탁합니다.'}\n",
    "])\n",
    " \n",
    "print(response['message']['content'])"
   ]
  }
 ],
 "metadata": {
  "kernelspec": {
   "display_name": "venv",
   "language": "python",
   "name": "python3"
  },
  "language_info": {
   "codemirror_mode": {
    "name": "ipython",
    "version": 3
   },
   "file_extension": ".py",
   "mimetype": "text/x-python",
   "name": "python",
   "nbconvert_exporter": "python",
   "pygments_lexer": "ipython3",
   "version": "3.11.7"
  }
 },
 "nbformat": 4,
 "nbformat_minor": 2
}
